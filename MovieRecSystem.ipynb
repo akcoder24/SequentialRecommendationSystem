{
 "cells": [
  {
   "cell_type": "code",
   "execution_count": 6,
   "metadata": {},
   "outputs": [],
   "source": [
    "from pyspark.sql import SparkSession"
   ]
  },
  {
   "cell_type": "code",
   "execution_count": 7,
   "metadata": {},
   "outputs": [],
   "source": [
    "spark = SparkSession.builder.appName('rec').getOrCreate()"
   ]
  },
  {
   "cell_type": "code",
   "execution_count": 8,
   "metadata": {},
   "outputs": [],
   "source": [
    "from pyspark.ml.evaluation import RegressionEvaluator\n",
    "from pyspark.ml.recommendation import ALS"
   ]
  },
  {
   "cell_type": "code",
   "execution_count": 9,
   "metadata": {},
   "outputs": [],
   "source": [
    "data = spark.read.csv('movielens_ratings.csv',inferSchema=True,header=True)\n"
   ]
  },
  {
   "cell_type": "code",
   "execution_count": 10,
   "metadata": {},
   "outputs": [
    {
     "data": {
      "text/plain": [
       "Row(movieId=2, rating=3.0, userId=0)"
      ]
     },
     "execution_count": 10,
     "metadata": {},
     "output_type": "execute_result"
    }
   ],
   "source": [
    "data.head()"
   ]
  },
  {
   "cell_type": "code",
   "execution_count": 11,
   "metadata": {},
   "outputs": [
    {
     "data": {
      "text/plain": [
       "DataFrame[movieId: int, rating: double, userId: int]"
      ]
     },
     "execution_count": 11,
     "metadata": {},
     "output_type": "execute_result"
    }
   ],
   "source": [
    "data\n"
   ]
  },
  {
   "cell_type": "code",
   "execution_count": 12,
   "metadata": {},
   "outputs": [
    {
     "name": "stdout",
     "output_type": "stream",
     "text": [
      "root\n",
      " |-- movieId: integer (nullable = true)\n",
      " |-- rating: double (nullable = true)\n",
      " |-- userId: integer (nullable = true)\n",
      "\n"
     ]
    }
   ],
   "source": [
    "data.printSchema()\n"
   ]
  },
  {
   "cell_type": "code",
   "execution_count": 13,
   "metadata": {},
   "outputs": [],
   "source": [
    "from pyspark.sql.functions import *\n",
    "\n",
    "most_popular = data\\\n",
    "    .groupBy(\"movieId\")\\\n",
    "    .agg(count(\"userId\"))\\\n",
    "    .withColumnRenamed(\"count(userId)\", \"num_ratings\")\\\n",
    "    .sort(desc(\"num_ratings\"))\n"
   ]
  },
  {
   "cell_type": "code",
   "execution_count": 14,
   "metadata": {},
   "outputs": [
    {
     "name": "stdout",
     "output_type": "stream",
     "text": [
      "+-------+-----------+\n",
      "|movieId|num_ratings|\n",
      "+-------+-----------+\n",
      "|     51|         20|\n",
      "|     22|         20|\n",
      "|     50|         20|\n",
      "|      6|         20|\n",
      "|     29|         20|\n",
      "|     94|         19|\n",
      "|     15|         19|\n",
      "|     68|         19|\n",
      "|     55|         19|\n",
      "|      2|         19|\n",
      "+-------+-----------+\n",
      "only showing top 10 rows\n",
      "\n"
     ]
    }
   ],
   "source": [
    "most_popular.show(10)\n"
   ]
  },
  {
   "cell_type": "code",
   "execution_count": 15,
   "metadata": {},
   "outputs": [
    {
     "ename": "NameError",
     "evalue": "name 'movies' is not defined",
     "output_type": "error",
     "traceback": [
      "\u001b[1;31m---------------------------------------------------------------------------\u001b[0m",
      "\u001b[1;31mNameError\u001b[0m                                 Traceback (most recent call last)",
      "Cell \u001b[1;32mIn[15], line 2\u001b[0m\n\u001b[0;32m      1\u001b[0m most_popular_movies \u001b[39m=\u001b[39m most_popular\u001b[39m.\u001b[39mjoin(\n\u001b[1;32m----> 2\u001b[0m     movies, most_popular\u001b[39m.\u001b[39mmovieId \u001b[39m==\u001b[39m movies\u001b[39m.\u001b[39mmovieId)\n\u001b[0;32m      3\u001b[0m most_popular_movies\u001b[39m.\u001b[39mshow(\u001b[39m20\u001b[39m, truncate\u001b[39m=\u001b[39m\u001b[39mFalse\u001b[39;00m)\n",
      "\u001b[1;31mNameError\u001b[0m: name 'movies' is not defined"
     ]
    }
   ],
   "source": [
    "most_popular_movies = most_popular.join(\n",
    "    movies, most_popular.movieId == movies.movieId)\n",
    "most_popular_movies.show(20, truncate=False)\n"
   ]
  },
  {
   "cell_type": "code",
   "execution_count": null,
   "metadata": {},
   "outputs": [],
   "source": [
    "top_rated = ratings\\\n",
    "    .groupBy(\"movieId\")\\\n",
    "    .agg(avg(col(\"rating\")))\\\n",
    "    .withColumnRenamed(\"avg(rating)\", \"avg_rating\")\\\n",
    "    .sort(desc(\"avg_rating\"))\n"
   ]
  },
  {
   "cell_type": "code",
   "execution_count": null,
   "metadata": {},
   "outputs": [],
   "source": [
    "top_rated = ratings\\\n",
    "    .groupBy(\"movieId\")\\\n",
    "    .agg(count(\"userId\"), avg(col(\"rating\")))\\\n",
    "    .withColumnRenamed(\"count(userId)\", \"num_ratings\")\\\n",
    "    .withColumnRenamed(\"avg(rating)\", \"avg_rating\")\n"
   ]
  },
  {
   "cell_type": "code",
   "execution_count": null,
   "metadata": {},
   "outputs": [],
   "source": [
    "top_rated_movies = top_rated.join(movies, top_rated.movieId == movies.movieId).sort(\n",
    "    desc(\"avg_rating\"), desc(\"num_ratings\"))\n",
    "top_rated_movies.show(10)\n"
   ]
  },
  {
   "cell_type": "code",
   "execution_count": null,
   "metadata": {},
   "outputs": [],
   "source": [
    "top_rated_movies.select([mean('num_ratings'), min(\n",
    "    'num_ratings'), max('num_ratings')]).show(1)\n"
   ]
  },
  {
   "cell_type": "code",
   "execution_count": null,
   "metadata": {},
   "outputs": [],
   "source": [
    "top_rated_movies.approxQuantile('num_ratings', [0.5], 0)\n"
   ]
  },
  {
   "cell_type": "code",
   "execution_count": null,
   "metadata": {},
   "outputs": [],
   "source": [
    "top_rated_movies.approxQuantile('num_ratings', [0.25], 0)\n"
   ]
  },
  {
   "cell_type": "code",
   "execution_count": null,
   "metadata": {},
   "outputs": [],
   "source": [
    "top_rated_movies.approxQuantile('num_ratings', [0.75], 0)\n"
   ]
  },
  {
   "cell_type": "code",
   "execution_count": null,
   "metadata": {},
   "outputs": [],
   "source": [
    "top_rated_movies.where(\"num_ratings > 500\").show(20, truncate=False)\n"
   ]
  },
  {
   "cell_type": "code",
   "execution_count": null,
   "metadata": {},
   "outputs": [
    {
     "name": "stdout",
     "output_type": "stream",
     "text": [
      "+-------+------------------+------------------+------------------+\n",
      "|summary|           movieId|            rating|            userId|\n",
      "+-------+------------------+------------------+------------------+\n",
      "|  count|              1501|              1501|              1501|\n",
      "|   mean| 49.40572951365756|1.7741505662891406|14.383744170552964|\n",
      "| stddev|28.937034065088994| 1.187276166124803| 8.591040424293272|\n",
      "|    min|                 0|               1.0|                 0|\n",
      "|    max|                99|               5.0|                29|\n",
      "+-------+------------------+------------------+------------------+\n",
      "\n"
     ]
    }
   ],
   "source": [
    "data.describe().show()"
   ]
  },
  {
   "cell_type": "code",
   "execution_count": null,
   "metadata": {},
   "outputs": [],
   "source": [
    "# Smaller dataset so we will use 0.8 / 0.2\n",
    "(training, test) = data.randomSplit([0.8, 0.2])"
   ]
  },
  {
   "cell_type": "code",
   "execution_count": null,
   "metadata": {},
   "outputs": [
    {
     "name": "stdout",
     "output_type": "stream",
     "text": [
      "+-------+------+------+\n",
      "|movieId|rating|userId|\n",
      "+-------+------+------+\n",
      "|      0|   1.0|     3|\n",
      "|      0|   1.0|     5|\n",
      "|      0|   1.0|     6|\n",
      "|      0|   1.0|    11|\n",
      "|      0|   1.0|    13|\n",
      "|      0|   1.0|    19|\n",
      "|      0|   1.0|    20|\n",
      "|      0|   1.0|    21|\n",
      "|      0|   1.0|    22|\n",
      "|      0|   1.0|    23|\n",
      "|      0|   3.0|    10|\n",
      "|      0|   3.0|    28|\n",
      "|      1|   1.0|     3|\n",
      "|      1|   1.0|     4|\n",
      "|      1|   1.0|     5|\n",
      "|      1|   1.0|     6|\n",
      "|      1|   1.0|     7|\n",
      "|      1|   1.0|    14|\n",
      "|      1|   1.0|    18|\n",
      "|      1|   1.0|    19|\n",
      "+-------+------+------+\n",
      "only showing top 20 rows\n",
      "\n"
     ]
    }
   ],
   "source": [
    "training.show()"
   ]
  },
  {
   "cell_type": "code",
   "execution_count": null,
   "metadata": {},
   "outputs": [
    {
     "name": "stdout",
     "output_type": "stream",
     "text": [
      "+-------+------+------+\n",
      "|movieId|rating|userId|\n",
      "+-------+------+------+\n",
      "|      0|   1.0|     8|\n",
      "|      0|   1.0|    15|\n",
      "|      0|   1.0|    26|\n",
      "|      0|   1.0|    27|\n",
      "|      1|   1.0|    26|\n",
      "|      1|   1.0|    28|\n",
      "|      1|   4.0|    15|\n",
      "|      2|   1.0|    15|\n",
      "|      2|   1.0|    23|\n",
      "|      2|   2.0|     7|\n",
      "|      2|   3.0|     0|\n",
      "|      2|   3.0|     6|\n",
      "|      3|   1.0|     0|\n",
      "|      3|   1.0|     9|\n",
      "|      3|   1.0|    13|\n",
      "|      3|   1.0|    26|\n",
      "|      3|   1.0|    28|\n",
      "|      3|   2.0|     8|\n",
      "|      4|   1.0|     9|\n",
      "|      4|   1.0|    23|\n",
      "+-------+------+------+\n",
      "only showing top 20 rows\n",
      "\n"
     ]
    }
   ],
   "source": [
    "test.show()"
   ]
  },
  {
   "cell_type": "code",
   "execution_count": null,
   "metadata": {},
   "outputs": [],
   "source": [
    "# Build the recommendation model using ALS on the training data\n",
    "als = ALS(maxIter=5, regParam=0.01, userCol=\"userId\", itemCol=\"movieId\", ratingCol=\"rating\")\n",
    "model = als.fit(training)"
   ]
  },
  {
   "cell_type": "code",
   "execution_count": null,
   "metadata": {},
   "outputs": [],
   "source": [
    "# Evaluate the model by computing the RMSE on the test data\n",
    "predictions = model.transform(test)"
   ]
  },
  {
   "cell_type": "code",
   "execution_count": null,
   "metadata": {},
   "outputs": [
    {
     "name": "stdout",
     "output_type": "stream",
     "text": [
      "+-------+------+------+-----------+\n",
      "|movieId|rating|userId| prediction|\n",
      "+-------+------+------+-----------+\n",
      "|      1|   1.0|    28|-0.86268294|\n",
      "|      3|   1.0|    28|  2.3682623|\n",
      "|      0|   1.0|    26|   0.736683|\n",
      "|      0|   1.0|    27|  1.6588295|\n",
      "|      1|   1.0|    26|  2.1351407|\n",
      "|      3|   1.0|    26| -0.7142657|\n",
      "|      3|   1.0|    13| -0.2651818|\n",
      "|      4|   2.0|    13|  2.6796756|\n",
      "|      2|   3.0|     6|   -1.17831|\n",
      "|      0|   1.0|    15|  1.2747415|\n",
      "|      1|   4.0|    15|  1.2740507|\n",
      "|      2|   1.0|    15|  2.3288383|\n",
      "|      3|   1.0|     9|  0.0854869|\n",
      "|      4|   1.0|     9| 0.60577434|\n",
      "|      0|   1.0|     8|  1.0385127|\n",
      "|      3|   2.0|     8|  2.9446602|\n",
      "|      2|   1.0|    23|  0.5978978|\n",
      "|      4|   1.0|    23|0.065588444|\n",
      "|      2|   2.0|     7| 0.99254626|\n",
      "|      2|   3.0|     0|  0.6517123|\n",
      "+-------+------+------+-----------+\n",
      "only showing top 20 rows\n",
      "\n"
     ]
    }
   ],
   "source": [
    "predictions.show()"
   ]
  },
  {
   "cell_type": "code",
   "execution_count": null,
   "metadata": {},
   "outputs": [
    {
     "name": "stdout",
     "output_type": "stream",
     "text": [
      "Root-mean-square error = 1.8091418734212048\n"
     ]
    }
   ],
   "source": [
    "evaluator = RegressionEvaluator(metricName=\"rmse\", labelCol=\"rating\",predictionCol=\"prediction\")\n",
    "rmse = evaluator.evaluate(predictions)\n",
    "print(\"Root-mean-square error = \" + str(rmse))"
   ]
  },
  {
   "cell_type": "code",
   "execution_count": null,
   "metadata": {},
   "outputs": [],
   "source": [
    "single_user = test.filter(test['userId']==26).select(['movieId','userId'])"
   ]
  },
  {
   "cell_type": "code",
   "execution_count": null,
   "metadata": {},
   "outputs": [
    {
     "name": "stdout",
     "output_type": "stream",
     "text": [
      "+-------+------+\n",
      "|movieId|userId|\n",
      "+-------+------+\n",
      "|      0|    26|\n",
      "|      1|    26|\n",
      "|      3|    26|\n",
      "|      7|    26|\n",
      "|     21|    26|\n",
      "|     22|    26|\n",
      "|     24|    26|\n",
      "|     27|    26|\n",
      "|     40|    26|\n",
      "|     45|    26|\n",
      "|     47|    26|\n",
      "|     49|    26|\n",
      "|     50|    26|\n",
      "|     54|    26|\n",
      "|     61|    26|\n",
      "|     68|    26|\n",
      "|     73|    26|\n",
      "|     76|    26|\n",
      "|     95|    26|\n",
      "+-------+------+\n",
      "\n"
     ]
    }
   ],
   "source": [
    "# User had 10 ratings in the test data set \n",
    "# Realistically this should be some sort of hold out set!\n",
    "single_user.show()"
   ]
  },
  {
   "cell_type": "code",
   "execution_count": null,
   "metadata": {},
   "outputs": [],
   "source": [
    "reccomendations = model.transform(single_user)"
   ]
  },
  {
   "cell_type": "code",
   "execution_count": null,
   "metadata": {},
   "outputs": [
    {
     "name": "stdout",
     "output_type": "stream",
     "text": [
      "+-------+------+----------+\n",
      "|movieId|userId|prediction|\n",
      "+-------+------+----------+\n",
      "|     54|    26| 6.5735664|\n",
      "|     47|    26| 5.2101517|\n",
      "|      7|    26| 3.0717003|\n",
      "|     50|    26| 2.8704505|\n",
      "|     76|    26|  2.576686|\n",
      "|      1|    26| 2.1351407|\n",
      "|     95|    26| 1.7132492|\n",
      "|     73|    26| 1.1988099|\n",
      "|     49|    26|0.98570096|\n",
      "|     27|    26| 0.9017774|\n",
      "|      0|    26|  0.736683|\n",
      "|     21|    26|  0.606101|\n",
      "|     68|    26|0.41728032|\n",
      "|     61|    26|0.24670398|\n",
      "|     22|    26|0.22418928|\n",
      "|     45|    26|0.07607293|\n",
      "|     40|    26|-0.3926839|\n",
      "|      3|    26|-0.7142657|\n",
      "|     24|    26|-1.1734585|\n",
      "+-------+------+----------+\n",
      "\n"
     ]
    }
   ],
   "source": [
    "reccomendations.orderBy('prediction',ascending=False).show()"
   ]
  },
  {
   "cell_type": "code",
   "execution_count": null,
   "metadata": {},
   "outputs": [],
   "source": []
  }
 ],
 "metadata": {
  "kernelspec": {
   "display_name": "Python 3",
   "language": "python",
   "name": "python3"
  },
  "language_info": {
   "codemirror_mode": {
    "name": "ipython",
    "version": 3
   },
   "file_extension": ".py",
   "mimetype": "text/x-python",
   "name": "python",
   "nbconvert_exporter": "python",
   "pygments_lexer": "ipython3",
   "version": "3.10.10"
  },
  "orig_nbformat": 4
 },
 "nbformat": 4,
 "nbformat_minor": 2
}
